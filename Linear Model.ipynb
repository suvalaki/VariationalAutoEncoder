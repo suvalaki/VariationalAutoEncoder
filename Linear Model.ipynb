{
 "cells": [
  {
   "cell_type": "code",
   "execution_count": 7,
   "metadata": {},
   "outputs": [],
   "source": [
    "import tensorflow as tf"
   ]
  },
  {
   "cell_type": "code",
   "execution_count": 20,
   "metadata": {},
   "outputs": [],
   "source": [
    "# Dummy Dataset\n",
    "from sklearn.datasets import make_regression\n",
    "X,y_ = make_regression(100)\n"
   ]
  },
  {
   "cell_type": "code",
   "execution_count": 21,
   "metadata": {
    "scrolled": false
   },
   "outputs": [],
   "source": [
    "# Linear Model\n",
    "\n",
    "INPUT_SHAPE = X.shape[1]\n",
    "\n",
    "graph_linear_model = tf.Graph()\n",
    "with graph_linear_model.as_default():\n",
    "    x = tf.placeholder(dtype=tf.float32, shape=(None, INPUT_SHAPE), name='x')\n",
    "    y = tf.placeholder(dtype=tf.float32, shape=(None, 1), name='y')\n",
    "    y_hat = tf.layers.dense(inputs=x, units = 1)\n",
    "    loss = tf.reduce_mean(tf.square(y-y_hat))\n",
    "    # compile the model \n",
    "    train_step = tf.train.AdamOptimizer().minimize(loss)\n",
    "    sess = tf.Session()\n",
    "    sess.run(tf.initialize_all_variables())"
   ]
  },
  {
   "cell_type": "code",
   "execution_count": 27,
   "metadata": {},
   "outputs": [],
   "source": [
    "# Train the model\n",
    "sess.run(train_step, feed_dict={'x:0': X, 'y:0':y_.reshape(-1,1)})"
   ]
  },
  {
   "cell_type": "code",
   "execution_count": 28,
   "metadata": {},
   "outputs": [
    {
     "data": {
      "text/plain": [
       "29693.932"
      ]
     },
     "execution_count": 28,
     "metadata": {},
     "output_type": "execute_result"
    }
   ],
   "source": [
    "# Compute the loss\n",
    "sess.run(loss, feed_dict={'x:0': X, 'y:0':y_.reshape(-1,1)})"
   ]
  },
  {
   "cell_type": "code",
   "execution_count": 30,
   "metadata": {},
   "outputs": [],
   "source": [
    "def train_linear_model(X,y_, epochs=10):\n",
    "    for i in range(epochs):\n",
    "        # Train the model\n",
    "        sess.run(train_step, feed_dict={'x:0': X, 'y:0':y_.reshape(-1,1)})\n",
    "        # Compute the loss\n",
    "        print(\n",
    "            sess.run(loss, feed_dict={'x:0': X, 'y:0':y_.reshape(-1,1)}))"
   ]
  },
  {
   "cell_type": "code",
   "execution_count": 31,
   "metadata": {},
   "outputs": [
    {
     "name": "stdout",
     "output_type": "stream",
     "text": [
      "29690.29\n",
      "29686.65\n",
      "29683.012\n",
      "29679.373\n",
      "29675.732\n",
      "29672.098\n",
      "29668.46\n",
      "29664.822\n",
      "29661.186\n",
      "29657.55\n"
     ]
    }
   ],
   "source": [
    "train_linear_model(X,y_, 10)"
   ]
  },
  {
   "cell_type": "code",
   "execution_count": null,
   "metadata": {},
   "outputs": [],
   "source": [
    "# Hierachical linear model\n",
    "# Y ~ N(mu, sigma)\n",
    "# mu ~ N(phi, delta)\n",
    "# Use reparameterisation trick\n",
    "#\n",
    "# Y ~ N(mu, sigma)\n",
    "# mu = phi + epsilon * delta\n",
    "# epsilon ~ N(0,1)\n",
    "#\n",
    "# A neural network interpretation can be defined by \n",
    "# Y = g(phi(X), delta(X), sigma(X), epsilon)\n",
    "\n",
    "INPUT_SHAPE = X.shape[1]\n",
    "MONTE_CARLO_SAMPLES = 50\n",
    "\n",
    "graph_bayesian_gaussian_mixture_model = tf.Graph()\n",
    "with graph_bayesian_gaussian_mixture_model.as_default():\n",
    "    \n",
    "    x = tf.placeholder(dtype=tf.float32, shape=(None, INPUT_SHAPE), name='x')\n",
    "    y = tf.placeholder(dtype=tf.float32, shape=(None, 1), name='y')\n",
    "    # Placeholders for the priors\n",
    "    phi = tf.placeholder(dtype=tf.float32, shape=(None, 1), name='phi')\n",
    "    delta = tf.placeholder(dtype=tf.float32, shape=(None, 1), name='delta')\n",
    "    sigma = tf.placeholder(dtype=tf.float32, shape=(None, 1), name='sigma')\n",
    "    \n",
    "    # Sample from a normal distribution\n",
    "    epslion = tf.random_normal(tf.shape(X) + (MONTE_CARLO_SAMPLES, ), \n",
    "                               0, 1, name='epsilon')\n",
    "    \n",
    "    mu = phi + delta*epsilon\n",
    "    y_hat = mu + sigma\n",
    "    \n",
    "    y_hat = tf.layers.dense(inputs=x, units = 1)\n",
    "    loss = tf.reduce_mean(tf.square(y-y_hat))\n",
    "    \n",
    "    # compile the model \n",
    "    train_step = tf.train.AdamOptimizer().minimize(loss)\n",
    "    sess = tf.Session()\n",
    "    sess.run(tf.initialize_all_variables())"
   ]
  },
  {
   "cell_type": "code",
   "execution_count": null,
   "metadata": {},
   "outputs": [],
   "source": [
    "# Hierachical linear model\n",
    "# Y ~ N(mu, sigma)\n",
    "# mu ~ N(phi, delta)\n",
    "# Use reparameterisation trick\n",
    "#\n",
    "# Y ~ N(mu, sigma)\n",
    "# mu = phi + epsilon * delta\n",
    "# epsilon ~ N(0,1)\n",
    "#\n",
    "# A neural network interpretation can be defined by \n",
    "# Y = g(phi(X), delta(X), sigma(X), epsilon)\n",
    "\n",
    "INPUT_SHAPE = X.shape[1]\n",
    "MONTE_CARLO_SAMPLES = 50\n",
    "\n",
    "graph_bayesian_gaussian_model = tf.Graph()\n",
    "with graph_bayesian_gaussian_mixture_model.as_default():\n",
    "    \n",
    "    x = tf.placeholder(dtype=tf.float32, shape=(None, INPUT_SHAPE), name='x')\n",
    "    y = tf.placeholder(dtype=tf.float32, shape=(None, 1), name='y')\n",
    "    # Placeholders for the priors\n",
    "    sigma = tf.placeholder(dtype=tf.float32, shape=(None, 1), name='sigma')\n",
    "    \n",
    "    # Sample from a normal distribution\n",
    "\n",
    "    mu = phi + delta*epsilon\n",
    "    y_hat = mu + sigma\n",
    "    \n",
    "    y_hat = tf.layers.dense(inputs=x, units = 1)\n",
    "    loss = tf.reduce_mean(tf.square(y-y_hat))\n",
    "    \n",
    "    # compile the model \n",
    "    train_step = tf.train.AdamOptimizer().minimize(loss)\n",
    "    sess = tf.Session()\n",
    "    sess.run(tf.initialize_all_variables())"
   ]
  }
 ],
 "metadata": {
  "kernelspec": {
   "display_name": "Python 3",
   "language": "python",
   "name": "python3"
  },
  "language_info": {
   "codemirror_mode": {
    "name": "ipython",
    "version": 3
   },
   "file_extension": ".py",
   "mimetype": "text/x-python",
   "name": "python",
   "nbconvert_exporter": "python",
   "pygments_lexer": "ipython3",
   "version": "3.6.8"
  }
 },
 "nbformat": 4,
 "nbformat_minor": 2
}
